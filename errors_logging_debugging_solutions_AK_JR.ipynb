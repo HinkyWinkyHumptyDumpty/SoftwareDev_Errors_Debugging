{
 "cells": [
  {
   "cell_type": "markdown",
   "id": "f54573e7",
   "metadata": {},
   "source": [
    "<div style='font-size: 90%'>\n",
    "# ✅ Solutions: Errors, Logging, and Debugging – Exercises\n",
    "\n",
    "This notebook contains solutions and explanations for each of the exercises.  \n",
    "Use it to check your answers, understand the reasoning, and learn best practices.\n",
    "</div>"
   ]
  },
  {
   "cell_type": "markdown",
   "id": "2a5de295",
   "metadata": {},
   "source": [
    "<div style='font-size: 90%'>\n",
    "## 1. Errors in Python – Solutions\n",
    "</div>"
   ]
  },
  {
   "cell_type": "markdown",
   "id": "fb2e1fde",
   "metadata": {},
   "source": [
    "<div style='font-size: 90%'>\n",
    "**Solution 1:** `ZeroDivisionError` – You can't divide by zero.\n",
    "</div>"
   ]
  },
  {
   "cell_type": "code",
   "execution_count": null,
   "id": "feff3edd",
   "metadata": {},
   "outputs": [],
   "source": [
    "def divide_numbers(a, b):\n",
    "    try:\n",
    "        return a / b\n",
    "    except ZeroDivisionError:\n",
    "        return \"Cannot divide by zero\"\n",
    "\n",
    "print(divide_numbers(10, 0))"
   ]
  },
  {
   "cell_type": "markdown",
   "id": "ff7ac921",
   "metadata": {},
   "source": [
    "<div style='font-size: 90%'>\n",
    "**Solution 2:** `NameError` – Variable `name` is undefined.\n",
    "</div>"
   ]
  },
  {
   "cell_type": "code",
   "execution_count": null,
   "id": "4d5d9d9f",
   "metadata": {},
   "outputs": [],
   "source": [
    "def print_name():\n",
    "    name = \"Alice\"\n",
    "    print(name)\n",
    "\n",
    "print_name()"
   ]
  },
  {
   "cell_type": "markdown",
   "id": "47aba75b",
   "metadata": {},
   "source": [
    "<div style='font-size: 90%'>\n",
    "**Solution 3:** `TypeError` – You can't add a string and a number.\n",
    "</div>"
   ]
  },
  {
   "cell_type": "code",
   "execution_count": null,
   "id": "8fe3451d",
   "metadata": {},
   "outputs": [],
   "source": [
    "def add_numbers(x, y):\n",
    "    return str(x) + str(y)\n",
    "\n",
    "print(add_numbers(\"five\", 5))  # returns 'five5'"
   ]
  },
  {
   "cell_type": "markdown",
   "id": "8e642021",
   "metadata": {},
   "source": [
    "<div style='font-size: 90%'>\n",
    "**Solution 4:** `IndexError` – The index 3 is out of range for a 2-element list.\n",
    "</div>"
   ]
  },
  {
   "cell_type": "code",
   "execution_count": null,
   "id": "66862be7",
   "metadata": {},
   "outputs": [],
   "source": [
    "def get_item(lst):\n",
    "    if len(lst) > 3:\n",
    "        return lst[3]\n",
    "    else:\n",
    "        return \"List too short\"\n",
    "\n",
    "print(get_item([1, 2]))"
   ]
  },
  {
   "cell_type": "markdown",
   "id": "d8224076",
   "metadata": {},
   "source": [
    "<div style='font-size: 90%'>\n",
    "## 2. Logging – Solutions\n",
    "</div>"
   ]
  },
  {
   "cell_type": "markdown",
   "id": "049fe6f0",
   "metadata": {},
   "source": [
    "<div style='font-size: 90%'>\n",
    "**Solution 1:** Log start and end of the function.\n",
    "</div>"
   ]
  },
  {
   "cell_type": "code",
   "execution_count": 1,
   "id": "150e73fc",
   "metadata": {},
   "outputs": [
    {
     "name": "stderr",
     "output_type": "stream",
     "text": [
      "INFO:root:Start say_hello\n",
      "INFO:root:End say_hello\n"
     ]
    },
    {
     "data": {
      "text/plain": [
       "'Hello, Alex'"
      ]
     },
     "execution_count": 1,
     "metadata": {},
     "output_type": "execute_result"
    }
   ],
   "source": [
    "import logging\n",
    "logging.basicConfig(level=logging.INFO)\n",
    "\n",
    "def say_hello(name):\n",
    "    logging.info(\"Start say_hello\")\n",
    "    result = f\"Hello, {name}\"\n",
    "    logging.info(\"End say_hello\")\n",
    "    return result\n",
    "\n",
    "say_hello(\"Alex\")"
   ]
  },
  {
   "cell_type": "markdown",
   "id": "b6ecf2cc",
   "metadata": {},
   "source": [
    "<div style='font-size: 90%'>\n",
    "**Solution 2:** Log input and output values.\n",
    "</div>"
   ]
  },
  {
   "cell_type": "code",
   "execution_count": 2,
   "id": "3a49cbfb",
   "metadata": {},
   "outputs": [
    {
     "data": {
      "text/plain": [
       "12"
      ]
     },
     "execution_count": 2,
     "metadata": {},
     "output_type": "execute_result"
    }
   ],
   "source": [
    "def multiply(x, y):\n",
    "    logging.debug(f\"multiply input: x={x}, y={y}\")\n",
    "    result = x * y\n",
    "    logging.debug(f\"multiply result: {result}\")\n",
    "    return result\n",
    "\n",
    "multiply(3, 4)"
   ]
  },
  {
   "cell_type": "markdown",
   "id": "4c294d86",
   "metadata": {},
   "source": [
    "<div style='font-size: 90%'>\n",
    "**Solution 3:** Log error when dividing by zero.\n",
    "</div>"
   ]
  },
  {
   "cell_type": "code",
   "execution_count": null,
   "id": "ec997753",
   "metadata": {},
   "outputs": [],
   "source": [
    "def safe_divide(x, y):\n",
    "    try:\n",
    "        return x / y\n",
    "    except ZeroDivisionError:\n",
    "        logging.error(\"Attempted division by zero\")\n",
    "        return None\n",
    "\n",
    "safe_divide(10, 0)"
   ]
  },
  {
   "cell_type": "markdown",
   "id": "1292fca9",
   "metadata": {},
   "source": [
    "<div style='font-size: 90%'>\n",
    "**Solution 4:** Logging to a file and using multiple levels.\n",
    "</div>"
   ]
  },
  {
   "cell_type": "code",
   "execution_count": null,
   "id": "0d173395",
   "metadata": {},
   "outputs": [],
   "source": [
    "logging.basicConfig(filename='my_app.log', level=logging.DEBUG, format='%(levelname)s:%(message)s')\n",
    "logging.info(\"Program started\")\n",
    "logging.warning(\"This is a warning\")\n",
    "logging.error(\"This is an error\")"
   ]
  },
  {
   "cell_type": "markdown",
   "id": "f662deb9",
   "metadata": {},
   "source": [
    "<div style='font-size: 90%'>\n",
    "## 3. Debugging – Solutions\n",
    "\n",
    "We use `pdb.set_trace()` to pause and inspect variables.\n",
    "</div>"
   ]
  },
  {
   "cell_type": "markdown",
   "id": "23c7b585",
   "metadata": {},
   "source": [
    "<div style='font-size: 90%'>\n",
    "**Solution 1:** Add a breakpoint before the loop.\n",
    "</div>"
   ]
  },
  {
   "cell_type": "code",
   "execution_count": null,
   "id": "f1ff70b5",
   "metadata": {},
   "outputs": [
    {
     "name": "stdout",
     "output_type": "stream",
     "text": [
      "> \u001b[32mc:\\users\\z004y3sj\\appdata\\local\\temp\\ipykernel_22600\\1450117991.py\u001b[39m(\u001b[92m5\u001b[39m)\u001b[36madd_list\u001b[39m\u001b[34m()\u001b[39m\n",
      "\n",
      "*** NameError: name 'Enter' is not defined\n",
      "*** NameError: name 'Enter' is not defined\n",
      "*** NameError: name 'Enter' is not defined\n",
      "*** NameError: name 'Enter' is not defined\n",
      "*** NameError: name 'Enter' is not defined\n",
      "*** NameError: name 'Enter' is not defined\n",
      "*** NameError: name 'Enter' is not defined\n",
      "*** NameError: name 'Enter' is not defined\n",
      "*** NameError: name 'Enter' is not defined\n",
      "*** NameError: name 'Enter' is not defined\n",
      "*** NameError: name 'Enter' is not defined\n"
     ]
    }
   ],
   "source": [
    "import pdb\n",
    "\n",
    "def add_list(numbers):\n",
    "    pdb.set_trace()\n",
    "    total = 0\n",
    "    for n in numbers:\n",
    "        total += n\n",
    "    return total\n",
    "\n",
    "add_list([1, 2, 3])"
   ]
  },
  {
   "cell_type": "markdown",
   "id": "8f7e3bc6",
   "metadata": {},
   "source": [
    "<div style='font-size: 90%'>\n",
    "**Solution 2:** Check why dividing by 0 happens.\n",
    "</div>"
   ]
  },
  {
   "cell_type": "code",
   "execution_count": null,
   "id": "c7567bca",
   "metadata": {},
   "outputs": [],
   "source": [
    "def mean(numbers):\n",
    "    if len(numbers) == 0:\n",
    "        raise ValueError(\"List is empty\")\n",
    "    total = sum(numbers)\n",
    "    return total / len(numbers)\n",
    "\n",
    "mean([])  # Raises a clear error"
   ]
  },
  {
   "cell_type": "markdown",
   "id": "9622ece3",
   "metadata": {},
   "source": [
    "<div style='font-size: 90%'>\n",
    "**Solution 3:** Works as expected, but you can step through.\n",
    "</div>"
   ]
  },
  {
   "cell_type": "code",
   "execution_count": null,
   "id": "ab10a2cc",
   "metadata": {},
   "outputs": [],
   "source": [
    "def countdown(n):\n",
    "    import pdb; pdb.set_trace()\n",
    "    while n != 0:\n",
    "        print(n)\n",
    "        n -= 1\n",
    "    print(\"Done!\")\n",
    "\n",
    "countdown(3)"
   ]
  },
  {
   "cell_type": "markdown",
   "id": "e6c1c2e2",
   "metadata": {},
   "source": [
    "<div style='font-size: 90%'>\n",
    "**Solution 4:** Catch and handle mixed types.\n",
    "</div>"
   ]
  },
  {
   "cell_type": "code",
   "execution_count": null,
   "id": "1b83fb46",
   "metadata": {},
   "outputs": [],
   "source": [
    "def weird_sum(data):\n",
    "    total = 0\n",
    "    for item in data:\n",
    "        try:\n",
    "            total += item\n",
    "        except TypeError:\n",
    "            logging.warning(f\"Skipping invalid item: {item}\")\n",
    "    return total\n",
    "\n",
    "weird_sum([5, \"two\", 3])"
   ]
  },
  {
   "cell_type": "markdown",
   "id": "7eb94fd7",
   "metadata": {},
   "source": [
    "<div style='font-size: 90%'>\n",
    "## ✅ Quiz Answers\n",
    "\n",
    "1. **TypeError** happens when you use the wrong type – like adding a string and an integer.\n",
    "2. `logging.warning()` is structured, filterable, and can go to files. `print()` is temporary.\n",
    "3. `pdb.set_trace()` pauses your code and lets you inspect variables interactively.\n",
    "4. To fix `ZeroDivisionError`, check if the denominator is zero before dividing.\n",
    "</div>"
   ]
  }
 ],
 "metadata": {
  "kernelspec": {
   "display_name": "base",
   "language": "python",
   "name": "python3"
  },
  "language_info": {
   "codemirror_mode": {
    "name": "ipython",
    "version": 3
   },
   "file_extension": ".py",
   "mimetype": "text/x-python",
   "name": "python",
   "nbconvert_exporter": "python",
   "pygments_lexer": "ipython3",
   "version": "3.12.9"
  }
 },
 "nbformat": 4,
 "nbformat_minor": 5
}
