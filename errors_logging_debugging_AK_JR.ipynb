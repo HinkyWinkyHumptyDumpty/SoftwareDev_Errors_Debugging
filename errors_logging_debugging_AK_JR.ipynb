{
 "cells": [
  {
   "cell_type": "markdown",
   "id": "624514c1",
   "metadata": {},
   "source": [
    "<div style='font-size: 90%'>\n",
    "# Errors, Logging, and Debugging – Exercises\n",
    "\n",
    "This notebook helps you learn how to find, understand, and fix problems in Python programs.\n",
    "\n",
    "We’ll focus on three topics:\n",
    "1. **Errors** – Recognizing and understanding Python exceptions.\n",
    "2. **Logging** – Tracking your program’s behavior without `print()`.\n",
    "3. **Debugging** – Pausing and exploring your program step-by-step.\n",
    "\n",
    "Each section includes:\n",
    "- 🧠 **Learning goals**\n",
    "- 🔍 **Simple explanations**\n",
    "- 🧪 **Practice exercises**, with difficulty levels 🟢🟡🔴\n",
    "</div>"
   ]
  },
  {
   "cell_type": "markdown",
   "id": "09add3e2",
   "metadata": {},
   "source": [
    "<div style='font-size: 90%'>\n",
    "## 1. Errors in Python\n",
    "\n",
    "### 🧠 Learning goals\n",
    "- Know what a Python exception is\n",
    "- Understand common error types\n",
    "- Learn to read and use Python tracebacks to fix code\n",
    "\n",
    "### 🔍 Explanation\n",
    "Errors (also called **exceptions**) stop your program when something goes wrong.  \n",
    "Python shows you what happened using an error message called a **traceback**.\n",
    "\n",
    "Common error types:\n",
    "- `ZeroDivisionError` → dividing by zero\n",
    "- `NameError` → using a variable that isn’t defined\n",
    "- `TypeError` → using the wrong data type\n",
    "\n",
    "To fix an error:\n",
    "1. Read the **last line** of the traceback to see what went wrong\n",
    "2. Look at the **code line** mentioned\n",
    "3. Think about what Python expected vs. what it got\n",
    "</div>"
   ]
  },
  {
   "cell_type": "markdown",
   "id": "e5bc0cd7",
   "metadata": {},
   "source": [
    "<div style='font-size: 90%'>\n",
    "🟢 **Task 1:** What happens when you divide by 0? Run the code and read the error message.\n",
    "</div>"
   ]
  },
  {
   "cell_type": "code",
   "execution_count": null,
   "id": "e8655f03",
   "metadata": {},
   "outputs": [],
   "source": [
    "def divide_numbers(a, b):\n",
    "    return a / b\n",
    "\n",
    "print(divide_numbers(10, 0))\n",
    "# 👉 Your solution here"
   ]
  },
  {
   "cell_type": "markdown",
   "id": "86fc9734",
   "metadata": {},
   "source": [
    "<div style='font-size: 90%'>\n",
    "🟢 **Task 2:** This function uses a variable that isn’t defined. What kind of error is this?\n",
    "</div>"
   ]
  },
  {
   "cell_type": "code",
   "execution_count": null,
   "id": "2a2ba22b",
   "metadata": {},
   "outputs": [],
   "source": [
    "def print_name():\n",
    "    print(name)\n",
    "\n",
    "print_name()\n",
    "# 👉 Your solution here"
   ]
  },
  {
   "cell_type": "markdown",
   "id": "c46c7188",
   "metadata": {},
   "source": [
    "<div style='font-size: 90%'>\n",
    "🟡 **Task 3:** Can you fix this? What happens if you add a string and a number?\n",
    "</div>"
   ]
  },
  {
   "cell_type": "code",
   "execution_count": null,
   "id": "8b50a30a",
   "metadata": {},
   "outputs": [],
   "source": [
    "def add_numbers(x, y):\n",
    "    return x + y\n",
    "\n",
    "print(add_numbers(\"five\", 5))\n",
    "# 👉 Your solution here"
   ]
  },
  {
   "cell_type": "markdown",
   "id": "cbd9f92d",
   "metadata": {},
   "source": [
    "<div style='font-size: 90%'>\n",
    "🔴 **Task 4:** What’s the error here? Try fixing the index to return a valid list item.\n",
    "</div>"
   ]
  },
  {
   "cell_type": "code",
   "execution_count": null,
   "id": "1098444c",
   "metadata": {},
   "outputs": [],
   "source": [
    "def get_item(lst):\n",
    "    return lst[3]\n",
    "\n",
    "print(get_item([1, 2]))\n",
    "# 👉 Your solution here"
   ]
  },
  {
   "cell_type": "markdown",
   "id": "521b672f",
   "metadata": {},
   "source": [
    "<div style='font-size: 90%'>\n",
    "## 2. Logging\n",
    "\n",
    "### 🧠 Learning goals\n",
    "- Understand what logging is and why it’s better than print\n",
    "- Learn how to log events and errors\n",
    "- Save logs to a file\n",
    "\n",
    "### 🔍 Explanation\n",
    "Instead of `print()`, we use **logging** to report information.\n",
    "\n",
    "Benefits:\n",
    "- Choose levels: `DEBUG`, `INFO`, `WARNING`, `ERROR`, `CRITICAL`\n",
    "- Log messages can be shown or hidden depending on the level\n",
    "- You can save logs to a file using `filename=...`\n",
    "\n",
    "Basic setup:\n",
    "```python\n",
    "import logging\n",
    "logging.basicConfig(level=logging.DEBUG)\n",
    "```\n",
    "</div>"
   ]
  },
  {
   "cell_type": "markdown",
   "id": "386abf1a",
   "metadata": {},
   "source": [
    "<div style='font-size: 90%'>\n",
    "🟢 **Task 1:** Log a message when the function starts and ends.\n",
    "</div>"
   ]
  },
  {
   "cell_type": "code",
   "execution_count": null,
   "id": "38d69027",
   "metadata": {},
   "outputs": [],
   "source": [
    "import logging\n",
    "logging.basicConfig(level=logging.INFO)\n",
    "\n",
    "def say_hello(name):\n",
    "    return f\"Hello, {name}\"\n",
    "\n",
    "say_hello(\"Alex\")\n",
    "# 👉 Your solution here"
   ]
  },
  {
   "cell_type": "markdown",
   "id": "19769562",
   "metadata": {},
   "source": [
    "<div style='font-size: 90%'>\n",
    "🟡 **Task 2:** Add a debug log to show input and result values.\n",
    "</div>"
   ]
  },
  {
   "cell_type": "code",
   "execution_count": null,
   "id": "255f6208",
   "metadata": {},
   "outputs": [],
   "source": [
    "def multiply(x, y):\n",
    "    return x * y\n",
    "\n",
    "multiply(3, 4)\n",
    "# 👉 Your solution here"
   ]
  },
  {
   "cell_type": "markdown",
   "id": "e3c7cbc9",
   "metadata": {},
   "source": [
    "<div style='font-size: 90%'>\n",
    "🟡 **Task 3:** Modify this to log an error when y is 0.\n",
    "</div>"
   ]
  },
  {
   "cell_type": "code",
   "execution_count": null,
   "id": "40136177",
   "metadata": {},
   "outputs": [],
   "source": [
    "def safe_divide(x, y):\n",
    "    return x / y\n",
    "\n",
    "safe_divide(10, 0)\n",
    "# 👉 Your solution here"
   ]
  },
  {
   "cell_type": "markdown",
   "id": "e56ee38d",
   "metadata": {},
   "source": [
    "<div style='font-size: 90%'>\n",
    "🔴 **Task 4:** Save logs to a file `my_app.log`. Log a message at each level.\n",
    "</div>"
   ]
  },
  {
   "cell_type": "code",
   "execution_count": null,
   "id": "a58ce924",
   "metadata": {},
   "outputs": [],
   "source": [
    "# 👉 Use logging.basicConfig(filename='my_app.log', level=logging.DEBUG)\n",
    "# Log at INFO, WARNING, and ERROR levels\n",
    "# 👉 Your solution here"
   ]
  },
  {
   "cell_type": "markdown",
   "id": "8d586f5c",
   "metadata": {},
   "source": [
    "<div style='font-size: 90%'>\n",
    "## 3. Debugging\n",
    "\n",
    "### 🧠 Learning goals\n",
    "- Learn how to pause execution and inspect variables\n",
    "- Use `pdb` to step through code\n",
    "- Detect logic errors\n",
    "\n",
    "### 🔍 Explanation\n",
    "Use `import pdb; pdb.set_trace()` to stop the program.  \n",
    "Then use commands:\n",
    "- `n` → next line  \n",
    "- `c` → continue  \n",
    "- `p varname` → print a variable  \n",
    "\n",
    "You can fix errors step by step and understand what the code is really doing.\n",
    "</div>"
   ]
  },
  {
   "cell_type": "markdown",
   "id": "e498ac51",
   "metadata": {},
   "source": [
    "<div style='font-size: 90%'>\n",
    "🟢 **Task 1:** Add a breakpoint before the loop and inspect `total`.\n",
    "</div>"
   ]
  },
  {
   "cell_type": "code",
   "execution_count": null,
   "id": "4b6930b1",
   "metadata": {},
   "outputs": [],
   "source": [
    "def add_list(numbers):\n",
    "    total = 0\n",
    "    for n in numbers:\n",
    "        total += n\n",
    "    return total\n",
    "\n",
    "add_list([1, 2, 3])\n",
    "# 👉 Your solution here"
   ]
  },
  {
   "cell_type": "markdown",
   "id": "f700c68a",
   "metadata": {},
   "source": [
    "<div style='font-size: 90%'>\n",
    "🟡 **Task 2:** What happens when the list is empty? Use a debugger to inspect values.\n",
    "</div>"
   ]
  },
  {
   "cell_type": "code",
   "execution_count": null,
   "id": "b1075af3",
   "metadata": {},
   "outputs": [],
   "source": [
    "def mean(numbers):\n",
    "    total = sum(numbers)\n",
    "    return total / len(numbers)\n",
    "\n",
    "mean([])\n",
    "# 👉 Your solution here"
   ]
  },
  {
   "cell_type": "markdown",
   "id": "6ddc7027",
   "metadata": {},
   "source": [
    "<div style='font-size: 90%'>\n",
    "🟡 **Task 3:** Something's wrong with this countdown. Add `pdb` to investigate.\n",
    "</div>"
   ]
  },
  {
   "cell_type": "code",
   "execution_count": null,
   "id": "1bc8842c",
   "metadata": {},
   "outputs": [],
   "source": [
    "def countdown(n):\n",
    "    while n != 0:\n",
    "        print(n)\n",
    "        n -= 1\n",
    "    print(\"Done!\")\n",
    "\n",
    "countdown(3)\n",
    "# 👉 Your solution here"
   ]
  },
  {
   "cell_type": "markdown",
   "id": "4eea7591",
   "metadata": {},
   "source": [
    "<div style='font-size: 90%'>\n",
    "🔴 **Task 4:** This crashes when types are mixed. Debug and fix it.\n",
    "</div>"
   ]
  },
  {
   "cell_type": "code",
   "execution_count": null,
   "id": "e4576ea8",
   "metadata": {},
   "outputs": [],
   "source": [
    "def weird_sum(data):\n",
    "    total = 0\n",
    "    for item in data:\n",
    "        total += item\n",
    "    return total\n",
    "\n",
    "weird_sum([5, \"two\", 3])\n",
    "# 👉 Your solution here"
   ]
  },
  {
   "cell_type": "markdown",
   "id": "2173e5c6",
   "metadata": {},
   "source": [
    "<div style='font-size: 90%'>\n",
    "---\n",
    "\n",
    "## ✅ Quick Review Quiz\n",
    "\n",
    "Answer these in your own words or as comments in a code cell:\n",
    "\n",
    "1. What is a `TypeError` and when does it happen?\n",
    "2. Why is `logging.warning()` better than `print()` in production?\n",
    "3. What happens when `pdb.set_trace()` is called?\n",
    "4. How would you fix a `ZeroDivisionError`?\n",
    "</div>"
   ]
  }
 ],
 "metadata": {},
 "nbformat": 4,
 "nbformat_minor": 5
}
